{
 "cells": [
  {
   "attachments": {},
   "cell_type": "markdown",
   "metadata": {},
   "source": [
    "# Analiza LEGO setov \n",
    "Analizirajmo podatke iz datoteke _podatki.csv_.\n",
    "Delovne hipoteze so:\n",
    "- večina izdelkov je na zalogi,\n",
    "- povprečna cena izdelka je 150€,\n",
    "- povprečna ocena izdelkov je višja od 4,\n",
    "- izdelki, ki jih ni na zalogi so povprečno dražji in bolje ocenjeni od ostalih."
   ]
  },
  {
   "cell_type": "code",
   "execution_count": 12,
   "metadata": {},
   "outputs": [],
   "source": [
    "import pandas as pd\n",
    "legoti = pd.read_csv(\"Datoteke/podatki.csv\", index_col=\"id\")"
   ]
  },
  {
   "cell_type": "code",
   "execution_count": 13,
   "metadata": {},
   "outputs": [
    {
     "data": {
      "text/html": [
       "<div>\n",
       "<style scoped>\n",
       "    .dataframe tbody tr th:only-of-type {\n",
       "        vertical-align: middle;\n",
       "    }\n",
       "\n",
       "    .dataframe tbody tr th {\n",
       "        vertical-align: top;\n",
       "    }\n",
       "\n",
       "    .dataframe thead th {\n",
       "        text-align: right;\n",
       "    }\n",
       "</style>\n",
       "<table border=\"1\" class=\"dataframe\">\n",
       "  <thead>\n",
       "    <tr style=\"text-align: right;\">\n",
       "      <th></th>\n",
       "      <th>ime</th>\n",
       "      <th>ocena</th>\n",
       "      <th>zaloga</th>\n",
       "      <th>cena</th>\n",
       "    </tr>\n",
       "    <tr>\n",
       "      <th>id</th>\n",
       "      <th></th>\n",
       "      <th></th>\n",
       "      <th></th>\n",
       "      <th></th>\n",
       "    </tr>\n",
       "  </thead>\n",
       "  <tbody>\n",
       "    <tr>\n",
       "      <th>10255</th>\n",
       "      <td>Assembly Square</td>\n",
       "      <td>4.7675</td>\n",
       "      <td>True</td>\n",
       "      <td>25999</td>\n",
       "    </tr>\n",
       "    <tr>\n",
       "      <th>10265</th>\n",
       "      <td>Ford Mustang</td>\n",
       "      <td>4.8075</td>\n",
       "      <td>True</td>\n",
       "      <td>14999</td>\n",
       "    </tr>\n",
       "    <tr>\n",
       "      <th>10266</th>\n",
       "      <td>NASA Apollo 11 Lunar Lander</td>\n",
       "      <td>4.8272</td>\n",
       "      <td>True</td>\n",
       "      <td>8999</td>\n",
       "    </tr>\n",
       "    <tr>\n",
       "      <th>10270</th>\n",
       "      <td>Bookshop</td>\n",
       "      <td>4.2209</td>\n",
       "      <td>True</td>\n",
       "      <td>16999</td>\n",
       "    </tr>\n",
       "    <tr>\n",
       "      <th>10271</th>\n",
       "      <td>Fiat 500</td>\n",
       "      <td>4.2455</td>\n",
       "      <td>True</td>\n",
       "      <td>6999</td>\n",
       "    </tr>\n",
       "    <tr>\n",
       "      <th>...</th>\n",
       "      <td>...</td>\n",
       "      <td>...</td>\n",
       "      <td>...</td>\n",
       "      <td>...</td>\n",
       "    </tr>\n",
       "    <tr>\n",
       "      <th>88015</th>\n",
       "      <td>Battery Box</td>\n",
       "      <td>2.0000</td>\n",
       "      <td>True</td>\n",
       "      <td>2999</td>\n",
       "    </tr>\n",
       "    <tr>\n",
       "      <th>88016</th>\n",
       "      <td>Large Hub</td>\n",
       "      <td>5.0000</td>\n",
       "      <td>True</td>\n",
       "      <td>20999</td>\n",
       "    </tr>\n",
       "    <tr>\n",
       "      <th>88017</th>\n",
       "      <td>Large Angular Motor</td>\n",
       "      <td>NaN</td>\n",
       "      <td>True</td>\n",
       "      <td>2999</td>\n",
       "    </tr>\n",
       "    <tr>\n",
       "      <th>88018</th>\n",
       "      <td>Medium Angular Motor</td>\n",
       "      <td>NaN</td>\n",
       "      <td>True</td>\n",
       "      <td>2499</td>\n",
       "    </tr>\n",
       "    <tr>\n",
       "      <th>92176</th>\n",
       "      <td>LEGO® NASA Apollo Saturn V</td>\n",
       "      <td>4.7957</td>\n",
       "      <td>True</td>\n",
       "      <td>10499</td>\n",
       "    </tr>\n",
       "  </tbody>\n",
       "</table>\n",
       "<p>1234 rows × 4 columns</p>\n",
       "</div>"
      ],
      "text/plain": [
       "                               ime   ocena  zaloga   cena\n",
       "id                                                       \n",
       "10255              Assembly Square  4.7675    True  25999\n",
       "10265                 Ford Mustang  4.8075    True  14999\n",
       "10266  NASA Apollo 11 Lunar Lander  4.8272    True   8999\n",
       "10270                     Bookshop  4.2209    True  16999\n",
       "10271                     Fiat 500  4.2455    True   6999\n",
       "...                            ...     ...     ...    ...\n",
       "88015                  Battery Box  2.0000    True   2999\n",
       "88016                    Large Hub  5.0000    True  20999\n",
       "88017          Large Angular Motor     NaN    True   2999\n",
       "88018         Medium Angular Motor     NaN    True   2499\n",
       "92176   LEGO® NASA Apollo Saturn V  4.7957    True  10499\n",
       "\n",
       "[1234 rows x 4 columns]"
      ]
     },
     "execution_count": 13,
     "metadata": {},
     "output_type": "execute_result"
    }
   ],
   "source": [
    "legoti"
   ]
  },
  {
   "attachments": {},
   "cell_type": "markdown",
   "metadata": {},
   "source": [
    "Zgoraj je za orientacijo prikazana tabela vseh setov."
   ]
  },
  {
   "cell_type": "code",
   "execution_count": 14,
   "metadata": {},
   "outputs": [
    {
     "data": {
      "text/plain": [
       "zaloga\n",
       "False     232\n",
       "True     1002\n",
       "dtype: int64"
      ]
     },
     "execution_count": 14,
     "metadata": {},
     "output_type": "execute_result"
    }
   ],
   "source": [
    "na_zalogi = legoti[legoti.zaloga == True]\n",
    "ni_na_zalogi = legoti[legoti.zaloga == False]\n",
    "legoti.groupby(\"zaloga\").size()"
   ]
  },
  {
   "cell_type": "code",
   "execution_count": 15,
   "metadata": {},
   "outputs": [
    {
     "data": {
      "text/plain": [
       "<AxesSubplot: xlabel='zaloga'>"
      ]
     },
     "execution_count": 15,
     "metadata": {},
     "output_type": "execute_result"
    },
    {
     "data": {
      "image/png": "[encoded data removed]",
      "text/plain": [
       "<Figure size 640x480 with 1 Axes>"
      ]
     },
     "metadata": {},
     "output_type": "display_data"
    }
   ],
   "source": [
    "\n",
    "legoti.groupby(\"zaloga\").size().plot.bar()"
   ]
  },
  {
   "attachments": {},
   "cell_type": "markdown",
   "metadata": {},
   "source": [
    "Če podatke prefiltriramo glede na to, če so v zalogi ali ne, opazimo, da je sta na zalogi 1002 seta izmed 1234 setov. To pomeni, da večina setov v spletni trgovini res *je* na zalogi. Tudi na zgornjem stolpičnem prikazu je lepo vidno, da je večina izdelkov na zalogi."
   ]
  },
  {
   "cell_type": "code",
   "execution_count": 16,
   "metadata": {},
   "outputs": [
    {
     "data": {
      "text/plain": [
       "50.02"
      ]
     },
     "execution_count": 16,
     "metadata": {},
     "output_type": "execute_result"
    }
   ],
   "source": [
    "round(0.01 * legoti.cena.mean(), 2)"
   ]
  },
  {
   "attachments": {},
   "cell_type": "markdown",
   "metadata": {},
   "source": [
    "Preprost izračun povprečja cen pokaže, da je povprečna cena LEGO seta v spletni trgovini 50.02 €, kar je le tretjina cene predvidene v hipotezi (150 €). Oceno v hipotezi smo torej postavili previsoko."
   ]
  },
  {
   "cell_type": "code",
   "execution_count": 17,
   "metadata": {},
   "outputs": [
    {
     "data": {
      "text/plain": [
       "4.5"
      ]
     },
     "execution_count": 17,
     "metadata": {},
     "output_type": "execute_result"
    }
   ],
   "source": [
    "round(legoti.ocena.mean(), 2)"
   ]
  },
  {
   "attachments": {},
   "cell_type": "markdown",
   "metadata": {},
   "source": [
    "Podobno lahko izračunamo tudi povprečno oceno LEGO setov in vidimo, da je le-ta 4.5, torej je res višja od 4."
   ]
  },
  {
   "cell_type": "code",
   "execution_count": 18,
   "metadata": {},
   "outputs": [
    {
     "data": {
      "text/plain": [
       "(48.1, 50.47)"
      ]
     },
     "execution_count": 18,
     "metadata": {},
     "output_type": "execute_result"
    }
   ],
   "source": [
    "a = round(0.01 * ni_na_zalogi.cena.mean(), 2)\n",
    "b = round(0.01 * na_zalogi.cena.mean(), 2)\n",
    "a, b"
   ]
  },
  {
   "cell_type": "code",
   "execution_count": 19,
   "metadata": {},
   "outputs": [
    {
     "data": {
      "text/plain": [
       "(4.49, 4.5)"
      ]
     },
     "execution_count": 19,
     "metadata": {},
     "output_type": "execute_result"
    }
   ],
   "source": [
    "c = round(ni_na_zalogi.ocena.mean(), 2)\n",
    "d = round(na_zalogi.ocena.mean(), 2)\n",
    "c, d"
   ]
  },
  {
   "attachments": {},
   "cell_type": "markdown",
   "metadata": {},
   "source": [
    "Podatke o povprečni ceni in oceni izračunamo še posebej na setih, ki so oz. niso na zalogi. V nasprotju s hipotezo je povprečna cena izdelkov, ki jih ni na zalogi, nižja od skupnega povprečja, prav tako je povprečna ocena rahlo nižja od skupne povprečne ocene.\n",
    "Cene izdelkov na zalogi pa so posledično nekoliko višje od skupnega povprečja."
   ]
  }
 ],
 "metadata": {
  "kernelspec": {
   "display_name": "Python 3",
   "language": "python",
   "name": "python3"
  },
  "language_info": {
   "codemirror_mode": {
    "name": "ipython",
    "version": 3
   },
   "file_extension": ".py",
   "mimetype": "text/x-python",
   "name": "python",
   "nbconvert_exporter": "python",
   "pygments_lexer": "ipython3",
   "version": "3.10.9"
  },
  "orig_nbformat": 4,
  "vscode": {
   "interpreter": {
    "hash": "486e0d5a79acdbfffd563ee7a67a93a5017bd2a4f66495483a69f0245c8a4a6c"
   }
  }
 },
 "nbformat": 4,
 "nbformat_minor": 2
}
